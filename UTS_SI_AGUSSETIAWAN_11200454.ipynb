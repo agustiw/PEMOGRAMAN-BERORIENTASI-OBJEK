{
 "cells": [
  {
   "cell_type": "markdown",
   "metadata": {
    "id": "207NNMC_vMNX"
   },
   "source": [
    "## Soal UTS I\n",
    "Buatlah Program dengan bahasa python untuk menampilkan nama dan NIM anda pada halaman notebook ini"
   ]
  },
  {
   "cell_type": "code",
   "execution_count": 3,
   "metadata": {
    "id": "ayXUPo6SvaqJ"
   },
   "outputs": [
    {
     "name": "stdout",
     "output_type": "stream",
     "text": [
      "Biodata\n",
      " Agus Setiawan \n",
      " 11200454 \n",
      " Sistem Informasi\n"
     ]
    }
   ],
   "source": [
    "nama = \"Agus Setiawan\"\n",
    "nim= \"11200454\"\n",
    "prodi= \"Sistem Informasi\"\n",
    "print(\"Biodata\\n\", nama, \"\\n\", nim, \"\\n\",prodi)"
   ]
  },
  {
   "cell_type": "markdown",
   "metadata": {
    "id": "txgZNIDhuEvS"
   },
   "source": [
    "## Soal UTS II\n",
    "\n",
    "\n",
    "Kerjakan salah satu dari dua soal berikut (Soal A atau B) sesuai dengan digit terakhir NIM anda.\n",
    "\n",
    "Jika Digit terakhir NIM anda adalah ganjil atau nol(0) kerjakanlan Soal A berikut ini\n",
    "\n",
    "Jika Digit terakhir NIM anda adalah genap kerjakanlan Soal B berikut ini \n",
    "\n",
    "**Soal B**\n",
    "\n",
    "Bualah aplikasi interaktif dengan pemrograman Python yang menerima input variable dari keyboard untuk mencari keliling bangun datar lingkaran.\n",
    "\n",
    "Dengan tampilan sebagai berikut:\n",
    "```\n",
    "Masukan Diameter : \n",
    "Keliling Lingkaran   :\n",
    "```"
   ]
  },
  {
   "cell_type": "markdown",
   "metadata": {
    "id": "L5pweWJ4vHe7"
   },
   "source": []
  },
  {
   "cell_type": "code",
   "execution_count": 1,
   "metadata": {
    "id": "mJ2YcXznurKe"
   },
   "outputs": [
    {
     "name": "stdout",
     "output_type": "stream",
     "text": [
      "masukan diameter: 36\n",
      "keliling lingkaran: 4069.44\n"
     ]
    }
   ],
   "source": [
    "#Jawab\n",
    "#Jawab\n",
    "phi = 3.14\n",
    "r = float(input(\"masukan diameter: \"))\n",
    "luas = phi*r*r\n",
    "print (\"keliling lingkaran: \"+str(luas))"
   ]
  }
 ],
 "metadata": {
  "colab": {
   "collapsed_sections": [],
   "name": "UTS-SI.ipynb",
   "provenance": []
  },
  "kernelspec": {
   "display_name": "Python 3 (ipykernel)",
   "language": "python",
   "name": "python3"
  },
  "language_info": {
   "codemirror_mode": {
    "name": "ipython",
    "version": 3
   },
   "file_extension": ".py",
   "mimetype": "text/x-python",
   "name": "python",
   "nbconvert_exporter": "python",
   "pygments_lexer": "ipython3",
   "version": "3.10.0"
  }
 },
 "nbformat": 4,
 "nbformat_minor": 1
}
